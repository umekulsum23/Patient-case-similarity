{
  "nbformat": 4,
  "nbformat_minor": 0,
  "metadata": {
    "colab": {
      "provenance": []
    },
    "kernelspec": {
      "name": "python3",
      "display_name": "Python 3"
    },
    "language_info": {
      "name": "python"
    }
  },
  "cells": [
    {
      "cell_type": "code",
      "source": [],
      "metadata": {
        "id": "Imi9N2XRsf_g"
      },
      "execution_count": null,
      "outputs": []
    },
    {
      "cell_type": "code",
      "execution_count": 5,
      "metadata": {
        "colab": {
          "base_uri": "https://localhost:8080/"
        },
        "id": "imovUNMz25Yq",
        "outputId": "56df7e43-88c2-4764-c155-2b2b02f273f8"
      },
      "outputs": [
        {
          "output_type": "stream",
          "name": "stderr",
          "text": [
            "/usr/local/lib/python3.11/dist-packages/keras/src/layers/core/embedding.py:90: UserWarning: Argument `input_length` is deprecated. Just remove it.\n",
            "  warnings.warn(\n"
          ]
        },
        {
          "output_type": "stream",
          "name": "stdout",
          "text": [
            "Epoch 1/15\n",
            "\u001b[1m32/32\u001b[0m \u001b[32m━━━━━━━━━━━━━━━━━━━━\u001b[0m\u001b[37m\u001b[0m \u001b[1m27s\u001b[0m 630ms/step - accuracy: 0.0450 - loss: 3.4265 - val_accuracy: 0.0395 - val_loss: 3.3512\n",
            "Epoch 2/15\n",
            "\u001b[1m32/32\u001b[0m \u001b[32m━━━━━━━━━━━━━━━━━━━━\u001b[0m\u001b[37m\u001b[0m \u001b[1m18s\u001b[0m 573ms/step - accuracy: 0.0416 - loss: 3.3583 - val_accuracy: 0.0474 - val_loss: 3.3190\n",
            "Epoch 3/15\n",
            "\u001b[1m32/32\u001b[0m \u001b[32m━━━━━━━━━━━━━━━━━━━━\u001b[0m\u001b[37m\u001b[0m \u001b[1m22s\u001b[0m 637ms/step - accuracy: 0.0609 - loss: 3.3114 - val_accuracy: 0.1779 - val_loss: 3.1292\n",
            "Epoch 4/15\n",
            "\u001b[1m32/32\u001b[0m \u001b[32m━━━━━━━━━━━━━━━━━━━━\u001b[0m\u001b[37m\u001b[0m \u001b[1m18s\u001b[0m 571ms/step - accuracy: 0.1437 - loss: 2.9716 - val_accuracy: 0.3162 - val_loss: 2.4203\n",
            "Epoch 5/15\n",
            "\u001b[1m32/32\u001b[0m \u001b[32m━━━━━━━━━━━━━━━━━━━━\u001b[0m\u001b[37m\u001b[0m \u001b[1m22s\u001b[0m 630ms/step - accuracy: 0.2492 - loss: 2.4253 - val_accuracy: 0.4190 - val_loss: 1.8125\n",
            "Epoch 6/15\n",
            "\u001b[1m32/32\u001b[0m \u001b[32m━━━━━━━━━━━━━━━━━━━━\u001b[0m\u001b[37m\u001b[0m \u001b[1m18s\u001b[0m 569ms/step - accuracy: 0.4324 - loss: 1.8245 - val_accuracy: 0.6087 - val_loss: 1.2426\n",
            "Epoch 7/15\n",
            "\u001b[1m32/32\u001b[0m \u001b[32m━━━━━━━━━━━━━━━━━━━━\u001b[0m\u001b[37m\u001b[0m \u001b[1m18s\u001b[0m 567ms/step - accuracy: 0.5517 - loss: 1.3616 - val_accuracy: 0.6996 - val_loss: 0.9409\n",
            "Epoch 8/15\n",
            "\u001b[1m32/32\u001b[0m \u001b[32m━━━━━━━━━━━━━━━━━━━━\u001b[0m\u001b[37m\u001b[0m \u001b[1m22s\u001b[0m 600ms/step - accuracy: 0.6954 - loss: 0.9148 - val_accuracy: 0.7352 - val_loss: 0.7642\n",
            "Epoch 9/15\n",
            "\u001b[1m32/32\u001b[0m \u001b[32m━━━━━━━━━━━━━━━━━━━━\u001b[0m\u001b[37m\u001b[0m \u001b[1m19s\u001b[0m 575ms/step - accuracy: 0.7680 - loss: 0.7406 - val_accuracy: 0.8142 - val_loss: 0.5957\n",
            "Epoch 10/15\n",
            "\u001b[1m32/32\u001b[0m \u001b[32m━━━━━━━━━━━━━━━━━━━━\u001b[0m\u001b[37m\u001b[0m \u001b[1m22s\u001b[0m 610ms/step - accuracy: 0.8219 - loss: 0.5771 - val_accuracy: 0.8735 - val_loss: 0.4681\n",
            "Epoch 11/15\n",
            "\u001b[1m32/32\u001b[0m \u001b[32m━━━━━━━━━━━━━━━━━━━━\u001b[0m\u001b[37m\u001b[0m \u001b[1m18s\u001b[0m 569ms/step - accuracy: 0.8711 - loss: 0.4230 - val_accuracy: 0.8498 - val_loss: 0.4687\n",
            "Epoch 12/15\n",
            "\u001b[1m32/32\u001b[0m \u001b[32m━━━━━━━━━━━━━━━━━━━━\u001b[0m\u001b[37m\u001b[0m \u001b[1m23s\u001b[0m 639ms/step - accuracy: 0.9008 - loss: 0.3169 - val_accuracy: 0.8656 - val_loss: 0.3661\n",
            "Epoch 13/15\n",
            "\u001b[1m32/32\u001b[0m \u001b[32m━━━━━━━━━━━━━━━━━━━━\u001b[0m\u001b[37m\u001b[0m \u001b[1m18s\u001b[0m 572ms/step - accuracy: 0.9245 - loss: 0.2919 - val_accuracy: 0.9012 - val_loss: 0.3451\n",
            "Epoch 14/15\n",
            "\u001b[1m32/32\u001b[0m \u001b[32m━━━━━━━━━━━━━━━━━━━━\u001b[0m\u001b[37m\u001b[0m \u001b[1m23s\u001b[0m 651ms/step - accuracy: 0.9386 - loss: 0.2116 - val_accuracy: 0.8972 - val_loss: 0.2995\n",
            "Epoch 15/15\n",
            "\u001b[1m32/32\u001b[0m \u001b[32m━━━━━━━━━━━━━━━━━━━━\u001b[0m\u001b[37m\u001b[0m \u001b[1m40s\u001b[0m 632ms/step - accuracy: 0.9565 - loss: 0.1707 - val_accuracy: 0.9170 - val_loss: 0.2821\n",
            "Enhanced Model with Attention Accuracy: 91.70%\n"
          ]
        }
      ],
      "source": [
        "import numpy as np\n",
        "import pandas as pd\n",
        "from sklearn.model_selection import train_test_split\n",
        "from sklearn.preprocessing import LabelEncoder\n",
        "from sklearn.feature_extraction.text import TfidfVectorizer\n",
        "from tensorflow.keras.models import Model\n",
        "from tensorflow.keras.layers import Embedding, Bidirectional, LSTM, Dense, Dropout, Input, Layer, GlobalAveragePooling1D, Concatenate\n",
        "from tensorflow.keras.preprocessing.text import Tokenizer\n",
        "from tensorflow.keras.preprocessing.sequence import pad_sequences\n",
        "import re\n",
        "import tensorflow as tf\n",
        "\n",
        "# Custom Attention Layer\n",
        "class AttentionLayer(Layer):\n",
        "    def __init__(self):\n",
        "        super(AttentionLayer, self).__init__()\n",
        "\n",
        "    def build(self, input_shape):\n",
        "        self.W = self.add_weight(name='attention_weight', shape=(input_shape[-1], input_shape[-1]), initializer='glorot_uniform', trainable=True)\n",
        "        self.b = self.add_weight(name='attention_bias', shape=(input_shape[-1],), initializer='zeros', trainable=True)\n",
        "        self.u = self.add_weight(name='context_vector', shape=(input_shape[-1],), initializer='glorot_uniform', trainable=True)\n",
        "        super(AttentionLayer, self).build(input_shape)\n",
        "\n",
        "    def call(self, x):\n",
        "        score = tf.nn.tanh(tf.tensordot(x, self.W, axes=[2, 0]) + self.b)\n",
        "        attention_weights = tf.nn.softmax(tf.tensordot(score, self.u, axes=[2, 0]), axis=1)\n",
        "        context_vector = tf.reduce_sum(attention_weights[..., tf.newaxis] * x, axis=1)\n",
        "        return context_vector\n",
        "\n",
        "\n",
        "# Load and preprocess the dataset\n",
        "file_path = '/content/Symptom2Disease.csv'\n",
        "data = pd.read_csv(file_path)\n",
        "data = data[['label', 'text']]\n",
        "\n",
        "# Text cleaning function\n",
        "def clean_text(text):\n",
        "    text = text.lower()\n",
        "    text = re.sub(r'[^a-zA-Z\\s]', '', text)  # Remove punctuation\n",
        "    text = re.sub(r'\\s+', ' ', text).strip()  # Remove extra spaces\n",
        "    return text\n",
        "\n",
        "data['text'] = data['text'].apply(clean_text)\n",
        "\n",
        "# Encode labels\n",
        "label_encoder = LabelEncoder()\n",
        "data['label_encoded'] = label_encoder.fit_transform(data['label'])\n",
        "\n",
        "# Prepare data for feature extraction and modeling\n",
        "X = data['text']\n",
        "y = data['label_encoded']\n",
        "\n",
        "# Split data into train and test sets\n",
        "X_train, X_test, y_train, y_test = train_test_split(X, y, test_size=0.2, random_state=42, stratify=y)\n",
        "\n",
        "# Feature extraction using TF-IDF\n",
        "vectorizer = TfidfVectorizer(max_features=10000, min_df=5, max_df=0.7)\n",
        "X_train_tfidf = vectorizer.fit_transform(X_train).toarray()\n",
        "X_test_tfidf = vectorizer.transform(X_test).toarray()\n",
        "\n",
        "# Tokenize text for LSTM\n",
        "tokenizer = Tokenizer(num_words=10000)\n",
        "tokenizer.fit_on_texts(X_train)\n",
        "X_train_seq = tokenizer.texts_to_sequences(X_train)\n",
        "X_test_seq = tokenizer.texts_to_sequences(X_test)\n",
        "\n",
        "# Pad sequences\n",
        "max_sequence_length = 150\n",
        "X_train_pad = pad_sequences(X_train_seq, maxlen=max_sequence_length)\n",
        "X_test_pad = pad_sequences(X_test_seq, maxlen=max_sequence_length)\n",
        "\n",
        "# Build enhanced LSTM model with Attention mechanisum\n",
        "input_layer = Input(shape=(max_sequence_length,))\n",
        "embedding_layer = Embedding(input_dim=10000, output_dim=128, input_length=max_sequence_length)(input_layer)\n",
        "lstm_layer = Bidirectional(LSTM(128, return_sequences=True, dropout=0.3, recurrent_dropout=0.3))(embedding_layer)\n",
        "attention_layer = AttentionLayer()(lstm_layer)\n",
        "dense_layer = Dense(128, activation='relu')(attention_layer)\n",
        "dropout_layer = Dropout(0.4)(dense_layer)\n",
        "output_layer = Dense(len(label_encoder.classes_), activation='softmax')(dropout_layer)\n",
        "\n",
        "model = Model(inputs=input_layer, outputs=output_layer)\n",
        "model.compile(optimizer='adam', loss='sparse_categorical_crossentropy', metrics=['accuracy'])\n",
        "\n",
        "# Train the model\n",
        "history = model.fit(X_train_pad, y_train, validation_data=(X_test_pad, y_test), epochs=15, batch_size=32, verbose=1)\n",
        "\n",
        "# Evaluate the model\n",
        "accuracy = model.evaluate(X_test_pad, y_test, verbose=0)[1]\n",
        "print(f\"Enhanced Model with Attention Accuracy: {accuracy * 100:.2f}%\")\n",
        "\n",
        "# Function to predict disease from user input\n",
        "def predict_disease(symptoms):\n",
        "    symptoms_cleaned = clean_text(symptoms)\n",
        "    seq = tokenizer.texts_to_sequences([symptoms_cleaned])\n",
        "    pad = pad_sequences(seq, maxlen=max_sequence_length)\n",
        "    pred = model.predict(pad)\n",
        "    predicted_label = label_encoder.inverse_transform([np.argmax(pred)])[0]\n",
        "    return predicted_label\n",
        "\n"
      ]
    },
    {
      "cell_type": "code",
      "source": [],
      "metadata": {
        "id": "nxkzZHLfsfDY"
      },
      "execution_count": null,
      "outputs": []
    },
    {
      "cell_type": "code",
      "source": [],
      "metadata": {
        "id": "H0vqTC8wqUmo"
      },
      "execution_count": null,
      "outputs": []
    },
    {
      "cell_type": "code",
      "source": [
        "# Example user interaction\n",
        "user_input = input(\"Enter symptoms: \")\n",
        "prediction = predict_disease(user_input)\n",
        "print(f\"Predicted Disease: {prediction}\")\n",
        "\n"
      ],
      "metadata": {
        "colab": {
          "base_uri": "https://localhost:8080/"
        },
        "id": "1XyaU4Cl2_qu",
        "outputId": "2a5b6330-74c8-4df3-8713-88244ceba2fc"
      },
      "execution_count": 6,
      "outputs": [
        {
          "output_type": "stream",
          "name": "stdout",
          "text": [
            "Enter symptoms: yellow eyes and fever\n",
            "\u001b[1m1/1\u001b[0m \u001b[32m━━━━━━━━━━━━━━━━━━━━\u001b[0m\u001b[37m\u001b[0m \u001b[1m1s\u001b[0m 568ms/step\n",
            "Predicted Disease: Jaundice\n"
          ]
        }
      ]
    },
    {
      "cell_type": "code",
      "source": [],
      "metadata": {
        "id": "oI1ofhjd88Pf"
      },
      "execution_count": null,
      "outputs": []
    }
  ]
}